{
 "cells": [
  {
   "cell_type": "code",
   "execution_count": 1,
   "metadata": {},
   "outputs": [],
   "source": [
    "import cv2\n",
    "import numpy as np \n",
    "import random \n",
    "import matplotlib.pyplot as plt"
   ]
  },
  {
   "cell_type": "code",
   "execution_count": 2,
   "metadata": {},
   "outputs": [],
   "source": [
    "image_height = 200\n",
    "image_width  = 200\n",
    "padding =3\n",
    "\n",
    "sides = 4\n",
    "\n",
    "image = np.zeros((image_height,image_width,3))"
   ]
  },
  {
   "cell_type": "code",
   "execution_count": 3,
   "metadata": {},
   "outputs": [],
   "source": [
    "def orientation_length(p,q,r):\n",
    "\t'''\n",
    "\tTo determine the orientation of the vectors and the length of the vectors. Vectors are (q-p) and (r-p)\n",
    "\t'''\n",
    "\n",
    "\t#convert lists into np arrays\n",
    "\tp = np.asarray(p, dtype='int32')\n",
    "\tq = np.asarray(q, dtype='int32')\n",
    "\tr = np.asarray(r, dtype='int32')\n",
    "\n",
    "\tvector_1 = q - p\n",
    "\tvector_2 = r - p\n",
    "\n",
    "\t#calculate the length of the vectors\n",
    "\tlength_1 = np.linalg.norm(vector_1)\n",
    "\tlength_2 = np.linalg.norm(vector_2)\n",
    "\n",
    "\tcross_product = np.cross(vector_1,vector_2)\n",
    "\n",
    "\treturn (cross_product, length_1, length_2)"
   ]
  },
  {
   "cell_type": "code",
   "execution_count": 1,
   "metadata": {},
   "outputs": [],
   "source": [
    "def gen_points(num):\n",
    "\n",
    "    point = [random.randint(padding,image_height-padding), random.randint(padding,image_width-padding)]\n",
    "    \n",
    "    return point"
   ]
  },
  {
   "cell_type": "code",
   "execution_count": 5,
   "metadata": {},
   "outputs": [],
   "source": [
    "status = False\n",
    "\n",
    "while not status:\n",
    "\n",
    "    \n",
    "\n"
   ]
  },
  {
   "cell_type": "code",
   "execution_count": 6,
   "metadata": {},
   "outputs": [],
   "source": [
    "def draw_lines(im, points):\n",
    "\t'''\t\n",
    "\tDraw the lines on the image as per the hull_list generated from the algo.\n",
    "\t'''\n",
    "\n",
    "\timg = im.copy()\n",
    "\n",
    "\tfor i in range(len(points)):\n",
    "\n",
    "\t\t#the next_index cannot be more than the number of points\n",
    "\t\tnext_index = (i+1)%len(points)\n",
    "\n",
    "\t\tcv2.line(img, (points[i][0], points[i][1]),\n",
    "\t\t\t\t\t (points[next_index][0], points[next_index][1]),\n",
    "\t\t\t\t\t (255,255,255),1)\n",
    "\n",
    "\treturn img"
   ]
  },
  {
   "cell_type": "code",
   "execution_count": 7,
   "metadata": {},
   "outputs": [
    {
     "name": "stderr",
     "output_type": "stream",
     "text": [
      "Clipping input data to the valid range for imshow with RGB data ([0..1] for floats or [0..255] for integers).\n"
     ]
    },
    {
     "data": {
      "image/png": "[encoded data removed]",
      "text/plain": [
       "<Figure size 432x288 with 1 Axes>"
      ]
     },
     "metadata": {
      "needs_background": "light"
     },
     "output_type": "display_data"
    }
   ],
   "source": [
    "points = gen_points(30)\n",
    "hull_list = jarvis_march(points)\n",
    "\n",
    "img = draw_lines(image, hull_list)\n",
    "plt.imshow(img)\n",
    "plt.show()"
   ]
  }
 ],
 "metadata": {
  "kernelspec": {
   "display_name": "nasa",
   "language": "python",
   "name": "nasa"
  },
  "language_info": {
   "codemirror_mode": {
    "name": "ipython",
    "version": 3
   },
   "file_extension": ".py",
   "mimetype": "text/x-python",
   "name": "python",
   "nbconvert_exporter": "python",
   "pygments_lexer": "ipython3",
   "version": "3.5.2"
  }
 },
 "nbformat": 4,
 "nbformat_minor": 2
}
